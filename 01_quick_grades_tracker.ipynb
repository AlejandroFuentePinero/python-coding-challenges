{
 "cells": [
  {
   "cell_type": "markdown",
   "id": "c4517d86-7658-4c8e-963c-4b313743b3ef",
   "metadata": {},
   "source": [
    "# Coding challenge: Create a mini data system - \"Quick Grades Tracker\"\n",
    "\n",
    "**Goal**: Build a small Python program that stores a few students and their grades, then reports the class average and top student.\n",
    "**Focus**: Dictionaries, loops, simple functions.\n",
    "\n",
    "- Example tasks:\n",
    "    - Ask user to input name and grade for several students (or hardcode a list).\n",
    "    - Compute mean and find the top student.\n",
    "    - Print results neatly.\n",
    "    - Sort students by grade descending."
   ]
  },
  {
   "cell_type": "code",
   "execution_count": null,
   "id": "40f3922c-f56e-464f-a737-9d599684fb74",
   "metadata": {},
   "outputs": [],
   "source": [
    "grades = {}\n",
    "\n",
    "while True:\n",
    "    name = input(\"Enter student name: \")\n",
    "    grade = float(input(\"Enter grade: \"))\n",
    "    grades[name] = grade\n",
    "    more_student = input(\"Is there more student? Answer 'y' or 'n':\")\n",
    "    if more_student.lower() == 'n':\n",
    "        break\n",
    "print(\"\\nClass summary:\")\n",
    "print(\"--------------\")\n",
    "for name, grade in grades.items():\n",
    "    print(f\"{name}: {grade}\")"
   ]
  },
  {
   "cell_type": "code",
   "execution_count": 45,
   "id": "ff95aa13-3733-469d-abc9-3ffed43473c9",
   "metadata": {},
   "outputs": [],
   "source": [
    "def class_summary(grades):\n",
    "    print(f'The class average is {sum(grades.values())/ len(grades)}\\n')\n",
    "    print(f'The top student in the class is {max(grades, key=grades.get)} with a grade of {grades[max(grades, key=grades.get)]}\\n')\n",
    "    ranks = dict(sorted(grades.items(), key=lambda item: item[1], reverse=True))\n",
    "    print('\\nClass rank:')\n",
    "    for name, grade in ranks.items():\n",
    "        print(name,'->' ,grade)"
   ]
  },
  {
   "cell_type": "code",
   "execution_count": 46,
   "id": "0b21cf6c-597a-45cb-a251-8c948e762e08",
   "metadata": {},
   "outputs": [
    {
     "name": "stdout",
     "output_type": "stream",
     "text": [
      "The class average is 6.75\n",
      "\n",
      "The top student in the class is alex with a grade of 9.0\n",
      "\n",
      "\n",
      "Class rank:\n",
      "alex -> 9.0\n",
      "anna -> 8.0\n",
      "ivan -> 7.0\n",
      "kevin -> 3.0\n"
     ]
    }
   ],
   "source": [
    "class_summary(grades)"
   ]
  },
  {
   "cell_type": "code",
   "execution_count": null,
   "id": "de17f686-55b5-4980-ab1b-4b6147829748",
   "metadata": {},
   "outputs": [],
   "source": []
  }
 ],
 "metadata": {
  "kernelspec": {
   "display_name": "Python [conda env:base] *",
   "language": "python",
   "name": "conda-base-py"
  },
  "language_info": {
   "codemirror_mode": {
    "name": "ipython",
    "version": 3
   },
   "file_extension": ".py",
   "mimetype": "text/x-python",
   "name": "python",
   "nbconvert_exporter": "python",
   "pygments_lexer": "ipython3",
   "version": "3.13.5"
  }
 },
 "nbformat": 4,
 "nbformat_minor": 5
}
